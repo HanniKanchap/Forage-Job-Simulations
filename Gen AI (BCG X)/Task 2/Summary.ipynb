{
 "cells": [
  {
   "cell_type": "markdown",
   "id": "d52b389a",
   "metadata": {},
   "source": [
    "### **BCG X AI Chatbot - Summary**\n",
    "\n",
    "#### **How It Works**\n",
    "The **BCG X AI chatbot** is designed to help users retrieve **financial data** using predefined queries. It allows users to select:\n",
    "- A **company** (Apple, Microsoft, Tesla)\n",
    "- A **financial metric** (e.g., Total Revenue, Net Income)\n",
    "- A **fiscal year** (2022, 2023, 2024)\n",
    "\n",
    "Once the user submits the query, the chatbot fetches relevant data from an **Excel database** using **Flask and Pandas**, then displays the requested financial information.\n",
    "\n",
    "#### **Predefined Queries**\n",
    "Users can choose from the following metrics:\n",
    "- **Total Revenue**\n",
    "- **Net Income**\n",
    "- **Total Assets**\n",
    "- **Total Liabilities**\n",
    "- **Operating Cash Flow**\n",
    "- **Revenue Growth (%)**\n",
    "- **Net Income Growth (%)**\n",
    "\n",
    "#### **Limitations**\n",
    "- The chatbot **only supports predefined companies and financial metrics**.\n",
    "- It relies on an **Excel file** for data, meaning updates require manual file modifications.\n",
    "- It **does not generate predictions** or conduct deep financial analysis beyond displaying stored data.\n",
    "- User inputs must **exactly match** available records, or they will return \"Oops! Unable to find data.\"\n"
   ]
  },
  {
   "cell_type": "markdown",
   "id": "51ab985d",
   "metadata": {},
   "source": []
  }
 ],
 "metadata": {
  "language_info": {
   "name": "python"
  }
 },
 "nbformat": 4,
 "nbformat_minor": 5
}
